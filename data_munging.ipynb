{
 "cells": [
  {
   "cell_type": "markdown",
   "id": "7e6a5c1a-e949-47bb-88f0-867524578dec",
   "metadata": {},
   "source": [
    "### Data munging from web\n"
   ]
  },
  {
   "cell_type": "code",
   "execution_count": 12,
   "id": "3fdeb20e-c12a-46e2-bb34-1bc144072deb",
   "metadata": {},
   "outputs": [],
   "source": [
    "import requests\n",
    "from bs4 import BeautifulSoup\n",
    "import json\n",
    "import re"
   ]
  },
  {
   "cell_type": "code",
   "execution_count": 13,
   "id": "b95fc8c9-c9af-4a05-a74d-85c55798005f",
   "metadata": {},
   "outputs": [],
   "source": [
    "def get_soup(limit, offset, alph):\n",
    "    url = \"https://www.medicines.org.uk/emc/browse-medicines?prefix=\"+ alph +\"&offset=\"+str(offset)+\"&limit=\"+str(limit)\n",
    "    page = requests.get(url)\n",
    "    soup = BeautifulSoup(page.content, \"html.parser\")\n",
    "    return soup"
   ]
  },
  {
   "cell_type": "code",
   "execution_count": 14,
   "id": "e77f009b-e794-466e-a717-2741bdf2d991",
   "metadata": {},
   "outputs": [],
   "source": [
    "alphs= [chr(i) for i in range(65,66)]; alphs\n",
    "ds = []"
   ]
  },
  {
   "cell_type": "code",
   "execution_count": 15,
   "id": "0e207876-5d25-4e5c-983c-c4bc3c454a52",
   "metadata": {},
   "outputs": [
    {
     "name": "stdout",
     "output_type": "stream",
     "text": [
      "A\n",
      "5\n"
     ]
    }
   ],
   "source": [
    "for alph in alphs:\n",
    "    print(alph)\n",
    "    offset = 1\n",
    "    limit = 200\n",
    "    max_pg_num = 1\n",
    "    num_pages = 1\n",
    "    pg_data = []\n",
    "    soup = get_soup(offset=offset, limit=limit, alph=alph)\n",
    "    pagination = soup.find(\"ul\", {\"class\": \"search-panel-paging\"})\n",
    "    pagination_string = pagination.li.string\n",
    "    page_numbers = re.findall('[0-9]+', pagination_string)\n",
    "    max_pg_num += int(page_numbers[1]) - 1;\n",
    "    print(max_pg_num)"
   ]
  },
  {
   "cell_type": "code",
   "execution_count": null,
   "id": "3c2613bf-297d-44a3-aa07-6b16288c5975",
   "metadata": {},
   "outputs": [],
   "source": []
  }
 ],
 "metadata": {
  "kernelspec": {
   "display_name": "Python 3 (ipykernel)",
   "language": "python",
   "name": "python3"
  },
  "language_info": {
   "codemirror_mode": {
    "name": "ipython",
    "version": 3
   },
   "file_extension": ".py",
   "mimetype": "text/x-python",
   "name": "python",
   "nbconvert_exporter": "python",
   "pygments_lexer": "ipython3",
   "version": "3.9.13"
  }
 },
 "nbformat": 4,
 "nbformat_minor": 5
}
