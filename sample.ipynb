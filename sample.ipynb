{
 "cells": [
  {
   "cell_type": "code",
   "execution_count": null,
   "id": "6f23bd88-f34f-412d-b347-64a945ef1189",
   "metadata": {},
   "outputs": [],
   "source": [
    "import torch"
   ]
  },
  {
   "cell_type": "markdown",
   "id": "7e6a5c1a-e949-47bb-88f0-867524578dec",
   "metadata": {},
   "source": [
    "### Walkthru sample notebook\n",
    "\n",
    "How to calculate '1+1'"
   ]
  },
  {
   "cell_type": "code",
   "execution_count": 2,
   "id": "44b15c9f-b63e-4cec-afc9-47ed9bf5712f",
   "metadata": {},
   "outputs": [],
   "source": [
    "from numpy import *"
   ]
  },
  {
   "cell_type": "code",
   "execution_count": null,
   "id": "88fb4d31-e2a7-4e03-8a7c-b19c127956a3",
   "metadata": {},
   "outputs": [],
   "source": []
  }
 ],
 "metadata": {
  "kernelspec": {
   "display_name": "Python 3 (ipykernel)",
   "language": "python",
   "name": "python3"
  },
  "language_info": {
   "codemirror_mode": {
    "name": "ipython",
    "version": 3
   },
   "file_extension": ".py",
   "mimetype": "text/x-python",
   "name": "python",
   "nbconvert_exporter": "python",
   "pygments_lexer": "ipython3",
   "version": "3.9.13"
  }
 },
 "nbformat": 4,
 "nbformat_minor": 5
}
